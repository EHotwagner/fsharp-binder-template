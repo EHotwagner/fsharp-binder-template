{
 "metadata": {
  "kernelspec": {
   "display_name": ".NET (F#)",
   "language": "F#",
   "name": ".net-fsharp"
  },
  "language_info": {
   "name": "F#"
  }
 },
 "cells": [
  {
   "cell_type": "markdown",
   "source": [
    "F# Jupyter/binder notebook\r\n",
    "==="
   ],
   "metadata": {}
  },
  {
   "cell_type": "markdown",
   "source": [
    "Importing nuget packages\r\n",
    "---"
   ],
   "metadata": {}
  },
  {
   "cell_type": "code",
   "execution_count": null,
   "source": [
    "#r \"nuget: Plotly.NET, 2.0.0-preview.6\"\r\n",
    "#r \"nuget: Plotly.NET.Interactive, 2.0.0-preview.6\"\r\n",
    "\r\n",
    "open Plotly.NET"
   ],
   "outputs": [
    {
     "data": {
      "text/html": [
       "<div><div></div><div></div><div></div></div>"
      ]
     },
     "metadata": {},
     "output_type": "display_data"
    }
   ],
   "metadata": {
    "dotnet_interactive": {
     "language": "fsharp"
    }
   }
  },
  {
   "cell_type": "code",
   "execution_count": null,
   "source": [
    "let data = [(1,1);(2,6);(3,5);(4,9)]\r\n",
    "data"
   ],
   "outputs": [
    {
     "data": {
      "text/html": [
       "<table><thead><tr><th><i>index</i></th><th>Item1</th><th>Item2</th></tr></thead><tbody><tr><td>0</td><td><div class=\"dni-plaintext\">1</div></td><td><div class=\"dni-plaintext\">1</div></td></tr><tr><td>1</td><td><div class=\"dni-plaintext\">2</div></td><td><div class=\"dni-plaintext\">6</div></td></tr><tr><td>2</td><td><div class=\"dni-plaintext\">3</div></td><td><div class=\"dni-plaintext\">5</div></td></tr><tr><td>3</td><td><div class=\"dni-plaintext\">4</div></td><td><div class=\"dni-plaintext\">9</div></td></tr></tbody></table>"
      ]
     },
     "metadata": {},
     "output_type": "display_data"
    }
   ],
   "metadata": {
    "dotnet_interactive": {
     "language": "fsharp"
    }
   }
  },
  {
   "cell_type": "markdown",
   "source": [
    "Charts using Plotly\r\n",
    "---"
   ],
   "metadata": {}
  },
  {
   "cell_type": "code",
   "execution_count": null,
   "source": [
    "data\r\n",
    "|> Chart.Line\r\n",
    "|> Chart.withTitle \"My first interactive chart!\""
   ],
   "outputs": [
    {
     "data": {
      "text/html": [
       "<div id=\"50c64887-9fef-47a2-8532-8d22989703c0\" style=\"width: 600px; height: 600px;\"><!-- Plotly chart will be drawn inside this DIV --></div>\r\n",
       "<script type=\"text/javascript\">\r\n",
       "\n",
       "            var renderPlotly_50c648879fef47a285328d22989703c0 = function() {\n",
       "            var fsharpPlotlyRequire = requirejs.config({context:'fsharp-plotly',paths:{plotly:'https://cdn.plot.ly/plotly-latest.min'}}) || require;\n",
       "            fsharpPlotlyRequire(['plotly'], function(Plotly) {\r\n",
       "\n",
       "            var data = [{\"type\":\"scatter\",\"x\":[1,2,3,4],\"y\":[1,6,5,9],\"mode\":\"lines\",\"line\":{},\"marker\":{}}];\n",
       "            var layout = {\"title\":\"My first interactive chart!\"};\n",
       "            var config = {};\n",
       "            Plotly.newPlot('50c64887-9fef-47a2-8532-8d22989703c0', data, layout, config);\r\n",
       "});\n",
       "            };\n",
       "            if ((typeof(requirejs) !==  typeof(Function)) || (typeof(requirejs.config) !== typeof(Function))) {\n",
       "                var script = document.createElement(\"script\");\n",
       "                script.setAttribute(\"src\", \"https://cdnjs.cloudflare.com/ajax/libs/require.js/2.3.6/require.min.js\");\n",
       "                script.onload = function(){\n",
       "                    renderPlotly_50c648879fef47a285328d22989703c0();\n",
       "                };\n",
       "                document.getElementsByTagName(\"head\")[0].appendChild(script);\n",
       "            }\n",
       "            else {\n",
       "                renderPlotly_50c648879fef47a285328d22989703c0();\n",
       "            }\r\n",
       "</script>\r\n"
      ]
     },
     "metadata": {},
     "output_type": "display_data"
    }
   ],
   "metadata": {
    "dotnet_interactive": {
     "language": "fsharp"
    }
   }
  },
  {
   "cell_type": "markdown",
   "source": [
    "Referencing fsx files\r\n",
    "---"
   ],
   "metadata": {}
  },
  {
   "cell_type": "code",
   "execution_count": null,
   "source": [
    "#load \"test.fsx\"\r\n",
    "open Test\r\n",
    "\r\n",
    "exported"
   ],
   "outputs": [
    {
     "data": {
      "text/plain": [
       "I am a string in an external fsx file."
      ]
     },
     "metadata": {},
     "output_type": "display_data"
    }
   ],
   "metadata": {
    "dotnet_interactive": {
     "language": "fsharp"
    }
   }
  }
 ],
 "nbformat": 4,
 "nbformat_minor": 2
}